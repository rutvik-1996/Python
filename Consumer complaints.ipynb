{
 "cells": [
  {
   "cell_type": "markdown",
   "metadata": {},
   "source": [
    "# ALY6140 Captstone Project: Analysis of Consumer Complaints Database "
   ]
  },
  {
   "cell_type": "markdown",
   "metadata": {},
   "source": [
    "ALY6140 71697 Analytics Systems Technology Fall A\n",
    "College of Professional Studies, Northeastern University, Boston, MA 02115.\n",
    "WEEK 6 : FINAL PROJECT\n",
    "Submission date : 10/24/20\n",
    "Submitted by:\n",
    "Group 6 : 1.Nikhil Sakinal\n",
    "          2.Rutvi Kantawala\n",
    "          3.Spurthi Patnam\n",
    "          4.Aishwarya Subramanya\n",
    "Instructor name : Kamen Madjarov\n",
    "Analysis on : Consumer Complaints Dataset"
   ]
  },
  {
   "cell_type": "markdown",
   "metadata": {},
   "source": [
    "#### Importing the Python script module, main() is the function created in  ALY6140_Capstone_Project_Group_6.py file and we have called the main function in this file for further analysis. Main function imports the data, cleans the data and performs model building to show the below classification metrics."
   ]
  },
  {
   "cell_type": "code",
   "execution_count": 1,
   "metadata": {},
   "outputs": [
    {
     "name": "stderr",
     "output_type": "stream",
     "text": [
      "C:\\Users\\Aishu\\Downloads\\ALY6140_Capstone_Project_Group_6.py:39: SettingWithCopyWarning: \n",
      "A value is trying to be set on a copy of a slice from a DataFrame.\n",
      "Try using .loc[row_indexer,col_indexer] = value instead\n",
      "\n",
      "See the caveats in the documentation: https://pandas.pydata.org/pandas-docs/stable/user_guide/indexing.html#returning-a-view-versus-a-copy\n",
      "  complaints_data['category_id'] = complaints_data['Product'].factorize()[0]\n",
      "C:\\Users\\Aishu\\Downloads\\ALY6140_Capstone_Project_Group_6.py:48: SettingWithCopyWarning: \n",
      "A value is trying to be set on a copy of a slice from a DataFrame.\n",
      "Try using .loc[row_indexer,col_indexer] = value instead\n",
      "\n",
      "See the caveats in the documentation: https://pandas.pydata.org/pandas-docs/stable/user_guide/indexing.html#returning-a-view-versus-a-copy\n",
      "  complaints_data['Month']=complaints_data['Month'].apply(mapper)\n"
     ]
    },
    {
     "name": "stdout",
     "output_type": "stream",
     "text": [
      "Accuracy:  0.681821107412788\n",
      "                                                                              precision    recall  f1-score   support\n",
      "\n",
      "                                                             Debt collection       0.78      0.28      0.41     15494\n",
      "Credit reporting, credit repair services, or other personal consumer reports       0.79      0.38      0.51     19028\n",
      "                                                 Credit card or prepaid card       0.65      0.97      0.78    115048\n",
      "                                                       Vehicle loan or lease       0.80      0.38      0.52     35015\n",
      "                                                 Checking or savings account       0.80      0.39      0.52      4236\n",
      "                          Money transfer, virtual currency, or money service       0.89      0.39      0.55     16619\n",
      "                                                                    Mortgage       0.68      0.24      0.36      3017\n",
      "                                                                Student loan       0.86      0.45      0.59      4900\n",
      "                                   Payday loan, title loan, or personal loan       0.72      0.29      0.41      4159\n",
      "\n",
      "                                                                    accuracy                           0.68    217516\n",
      "                                                                   macro avg       0.77      0.42      0.52    217516\n",
      "                                                                weighted avg       0.72      0.68      0.65    217516\n",
      "\n",
      "\n"
     ]
    }
   ],
   "source": [
    "file = __import__(\"ALY6140_Capstone_Project_Group_6\")\n",
    "file.main()"
   ]
  },
  {
   "cell_type": "markdown",
   "metadata": {},
   "source": [
    "# 1.1 Data Extraction\n",
    "\n",
    "Importing the required Libraries and Loading the dataset from the Consumer Financial Protection Bureau Portal"
   ]
  },
  {
   "cell_type": "code",
   "execution_count": 2,
   "metadata": {
    "scrolled": true
   },
   "outputs": [
    {
     "data": {
      "text/html": [
       "<div>\n",
       "<style scoped>\n",
       "    .dataframe tbody tr th:only-of-type {\n",
       "        vertical-align: middle;\n",
       "    }\n",
       "\n",
       "    .dataframe tbody tr th {\n",
       "        vertical-align: top;\n",
       "    }\n",
       "\n",
       "    .dataframe thead th {\n",
       "        text-align: right;\n",
       "    }\n",
       "</style>\n",
       "<table border=\"1\" class=\"dataframe\">\n",
       "  <thead>\n",
       "    <tr style=\"text-align: right;\">\n",
       "      <th></th>\n",
       "      <th>Date received</th>\n",
       "      <th>Product</th>\n",
       "      <th>Sub-product</th>\n",
       "      <th>Issue</th>\n",
       "      <th>Sub-issue</th>\n",
       "      <th>Consumer complaint narrative</th>\n",
       "      <th>Company public response</th>\n",
       "      <th>Company</th>\n",
       "      <th>State</th>\n",
       "      <th>ZIP code</th>\n",
       "      <th>Tags</th>\n",
       "      <th>Consumer consent provided?</th>\n",
       "      <th>Submitted via</th>\n",
       "      <th>Date sent to company</th>\n",
       "      <th>Company response to consumer</th>\n",
       "      <th>Timely response?</th>\n",
       "      <th>Consumer disputed?</th>\n",
       "      <th>Complaint ID</th>\n",
       "    </tr>\n",
       "  </thead>\n",
       "  <tbody>\n",
       "    <tr>\n",
       "      <th>0</th>\n",
       "      <td>2019-09-24</td>\n",
       "      <td>Debt collection</td>\n",
       "      <td>I do not know</td>\n",
       "      <td>Attempts to collect debt not owed</td>\n",
       "      <td>Debt is not yours</td>\n",
       "      <td>transworld systems inc. \\nis trying to collect...</td>\n",
       "      <td>NaN</td>\n",
       "      <td>TRANSWORLD SYSTEMS INC</td>\n",
       "      <td>FL</td>\n",
       "      <td>335XX</td>\n",
       "      <td>NaN</td>\n",
       "      <td>Consent provided</td>\n",
       "      <td>Web</td>\n",
       "      <td>2019-09-24</td>\n",
       "      <td>Closed with explanation</td>\n",
       "      <td>Yes</td>\n",
       "      <td>NaN</td>\n",
       "      <td>3384392</td>\n",
       "    </tr>\n",
       "    <tr>\n",
       "      <th>1</th>\n",
       "      <td>2019-09-19</td>\n",
       "      <td>Credit reporting, credit repair services, or o...</td>\n",
       "      <td>Credit reporting</td>\n",
       "      <td>Incorrect information on your report</td>\n",
       "      <td>Information belongs to someone else</td>\n",
       "      <td>NaN</td>\n",
       "      <td>Company has responded to the consumer and the ...</td>\n",
       "      <td>Experian Information Solutions Inc.</td>\n",
       "      <td>PA</td>\n",
       "      <td>15206</td>\n",
       "      <td>NaN</td>\n",
       "      <td>Consent not provided</td>\n",
       "      <td>Web</td>\n",
       "      <td>2019-09-20</td>\n",
       "      <td>Closed with non-monetary relief</td>\n",
       "      <td>Yes</td>\n",
       "      <td>NaN</td>\n",
       "      <td>3379500</td>\n",
       "    </tr>\n",
       "    <tr>\n",
       "      <th>2</th>\n",
       "      <td>2019-11-08</td>\n",
       "      <td>Debt collection</td>\n",
       "      <td>I do not know</td>\n",
       "      <td>Communication tactics</td>\n",
       "      <td>Frequent or repeated calls</td>\n",
       "      <td>Over the past 2 weeks, I have been receiving e...</td>\n",
       "      <td>NaN</td>\n",
       "      <td>Diversified Consultants, Inc.</td>\n",
       "      <td>NC</td>\n",
       "      <td>275XX</td>\n",
       "      <td>NaN</td>\n",
       "      <td>Consent provided</td>\n",
       "      <td>Web</td>\n",
       "      <td>2019-11-08</td>\n",
       "      <td>Closed with explanation</td>\n",
       "      <td>Yes</td>\n",
       "      <td>NaN</td>\n",
       "      <td>3433198</td>\n",
       "    </tr>\n",
       "    <tr>\n",
       "      <th>3</th>\n",
       "      <td>2019-09-15</td>\n",
       "      <td>Debt collection</td>\n",
       "      <td>Other debt</td>\n",
       "      <td>Attempts to collect debt not owed</td>\n",
       "      <td>Debt was result of identity theft</td>\n",
       "      <td>Pioneer has committed several federal violatio...</td>\n",
       "      <td>NaN</td>\n",
       "      <td>Pioneer Capital Solutions Inc</td>\n",
       "      <td>CA</td>\n",
       "      <td>925XX</td>\n",
       "      <td>NaN</td>\n",
       "      <td>Consent provided</td>\n",
       "      <td>Web</td>\n",
       "      <td>2019-09-15</td>\n",
       "      <td>Closed with explanation</td>\n",
       "      <td>Yes</td>\n",
       "      <td>NaN</td>\n",
       "      <td>3374555</td>\n",
       "    </tr>\n",
       "    <tr>\n",
       "      <th>4</th>\n",
       "      <td>2019-01-24</td>\n",
       "      <td>Credit card or prepaid card</td>\n",
       "      <td>General-purpose credit card or charge card</td>\n",
       "      <td>Problem with a purchase shown on your statement</td>\n",
       "      <td>Card was charged for something you did not pur...</td>\n",
       "      <td>NaN</td>\n",
       "      <td>NaN</td>\n",
       "      <td>CAPITAL ONE FINANCIAL CORPORATION</td>\n",
       "      <td>TX</td>\n",
       "      <td>787XX</td>\n",
       "      <td>NaN</td>\n",
       "      <td>NaN</td>\n",
       "      <td>Referral</td>\n",
       "      <td>2019-01-25</td>\n",
       "      <td>Closed with explanation</td>\n",
       "      <td>Yes</td>\n",
       "      <td>NaN</td>\n",
       "      <td>3133345</td>\n",
       "    </tr>\n",
       "  </tbody>\n",
       "</table>\n",
       "</div>"
      ],
      "text/plain": [
       "  Date received                                            Product  \\\n",
       "0    2019-09-24                                    Debt collection   \n",
       "1    2019-09-19  Credit reporting, credit repair services, or o...   \n",
       "2    2019-11-08                                    Debt collection   \n",
       "3    2019-09-15                                    Debt collection   \n",
       "4    2019-01-24                        Credit card or prepaid card   \n",
       "\n",
       "                                  Sub-product  \\\n",
       "0                               I do not know   \n",
       "1                            Credit reporting   \n",
       "2                               I do not know   \n",
       "3                                  Other debt   \n",
       "4  General-purpose credit card or charge card   \n",
       "\n",
       "                                             Issue  \\\n",
       "0                Attempts to collect debt not owed   \n",
       "1             Incorrect information on your report   \n",
       "2                            Communication tactics   \n",
       "3                Attempts to collect debt not owed   \n",
       "4  Problem with a purchase shown on your statement   \n",
       "\n",
       "                                           Sub-issue  \\\n",
       "0                                  Debt is not yours   \n",
       "1                Information belongs to someone else   \n",
       "2                         Frequent or repeated calls   \n",
       "3                  Debt was result of identity theft   \n",
       "4  Card was charged for something you did not pur...   \n",
       "\n",
       "                        Consumer complaint narrative  \\\n",
       "0  transworld systems inc. \\nis trying to collect...   \n",
       "1                                                NaN   \n",
       "2  Over the past 2 weeks, I have been receiving e...   \n",
       "3  Pioneer has committed several federal violatio...   \n",
       "4                                                NaN   \n",
       "\n",
       "                             Company public response  \\\n",
       "0                                                NaN   \n",
       "1  Company has responded to the consumer and the ...   \n",
       "2                                                NaN   \n",
       "3                                                NaN   \n",
       "4                                                NaN   \n",
       "\n",
       "                               Company State ZIP code Tags  \\\n",
       "0               TRANSWORLD SYSTEMS INC    FL    335XX  NaN   \n",
       "1  Experian Information Solutions Inc.    PA    15206  NaN   \n",
       "2        Diversified Consultants, Inc.    NC    275XX  NaN   \n",
       "3        Pioneer Capital Solutions Inc    CA    925XX  NaN   \n",
       "4    CAPITAL ONE FINANCIAL CORPORATION    TX    787XX  NaN   \n",
       "\n",
       "  Consumer consent provided? Submitted via Date sent to company  \\\n",
       "0           Consent provided           Web           2019-09-24   \n",
       "1       Consent not provided           Web           2019-09-20   \n",
       "2           Consent provided           Web           2019-11-08   \n",
       "3           Consent provided           Web           2019-09-15   \n",
       "4                        NaN      Referral           2019-01-25   \n",
       "\n",
       "      Company response to consumer Timely response? Consumer disputed?  \\\n",
       "0          Closed with explanation              Yes                NaN   \n",
       "1  Closed with non-monetary relief              Yes                NaN   \n",
       "2          Closed with explanation              Yes                NaN   \n",
       "3          Closed with explanation              Yes                NaN   \n",
       "4          Closed with explanation              Yes                NaN   \n",
       "\n",
       "   Complaint ID  \n",
       "0       3384392  \n",
       "1       3379500  \n",
       "2       3433198  \n",
       "3       3374555  \n",
       "4       3133345  "
      ]
     },
     "execution_count": 2,
     "metadata": {},
     "output_type": "execute_result"
    }
   ],
   "source": [
    "#Importing the libraries\n",
    "import pandas as pd\n",
    "import pandas as pd\n",
    "import numpy as np\n",
    "import seaborn as sns\n",
    "import matplotlib.pyplot as plt\n",
    "%matplotlib inline\n",
    "#df = pd.read_csv('complaints.csv') #loading from local folder for internal purposes\n",
    "df = pd.read_csv('https://files.consumerfinance.gov/ccdb/complaints.csv.zip', sep=',') #reading the csv file from the url\n",
    "df.head()"
   ]
  },
  {
   "cell_type": "markdown",
   "metadata": {},
   "source": [
    "## 1.1.1 Introduction and Background\n",
    "\n",
    "Consumers in the United States complain about a variety of products, services, companies etc. It is also difficult to understand what are the factors that really are responsible for the complaints. In order to obtain better insight on the characteristics pertaining to that of the consumer complaints,  we try to analyse this dataset and try to answer some of the business questions (Accross All States) with visualisations like,\n",
    "\n",
    "1. Top 10 companies by complaint\n",
    "2. Top 10 complaints by product\n",
    "3. Top 5 complaints by company response\n",
    "4. Number of complaints with timely response\n",
    "5. Number of complaints by day of week\n",
    "6. Volume of complaints by state\n",
    "\n",
    "#### User Story \n",
    "\n",
    "Whenever a complaint is submitted, consumers are heard by the companies, and they try to resolve them efficiently and also the companies or the products can learn from the complaint and make sure to resolve them permanently, also to avoid similar ones. Every complaint provides insight into problems that people are experiencing, helping the companies identify inappropriate practices and also enabling them to follow some of the best practices, and stopping them before they become major issues. \n",
    "\n",
    "With the analysis of this dataset, the aim is better outcomes for consumers.\n",
    "\n",
    "Reference: https://www.irjet.net/archives/V6/i3/IRJET-V6I3625.pdf\n",
    "\n",
    "#### Research Questions\n",
    "\n",
    "1. Identifying the number of complaints recorded by company\n",
    "2. Number of complaints received for each product and year\n",
    "3. Identify the percentage of complaints by companies for the year 2020\n",
    "\n"
   ]
  },
  {
   "cell_type": "markdown",
   "metadata": {},
   "source": [
    "## 1.1.2 Data Description\n",
    "\n",
    "Dataset: Consumer Complaints database (US)\n",
    "\n",
    "Description: This data set contains the complaints made by American consumers to the Consumer Finance Protection Bureau (CFPB) about financial product and services offered by financial institutions in the United States.\n",
    "\n",
    "Our dataset will contain complaints for the years 2018,2019,2020\n",
    "\n",
    "Link: https://catalog.data.gov/dataset/consumer-complaint-database#topic=consumer_navigation\n",
    "\n",
    "Actual Number of observations: 180946\n",
    "\n",
    "No of Observations considered: 870063 (2018, 2019, 2020)\n",
    "\n",
    "No of Parameters - 21\n",
    "\n",
    "Time Period - 3 Years\n",
    "\n",
    "#### Data assessment\n",
    "\n",
    "1. Complaint ID is the non-date numeric column\n",
    "3. Consists of 8,44,889 complaints\n",
    "4. Complaint ID can be treated as the index column\n",
    "\n",
    "\n"
   ]
  },
  {
   "cell_type": "markdown",
   "metadata": {},
   "source": [
    "## 1.2 Data Cleaning"
   ]
  },
  {
   "cell_type": "code",
   "execution_count": 3,
   "metadata": {},
   "outputs": [],
   "source": [
    "#Conversion of data types of 'Date received' and 'Date sen to company' from object to datetime\n",
    "df[\"Date received\"] = pd.to_datetime(df[\"Date received\"])\n",
    "df['Date sent to company'] = pd.to_datetime(df['Date sent to company'])\n",
    "\n",
    "#Creating new features 'Year', 'Month', 'Week Number'\n",
    "df['Year'] = df['Date received'].dt.year\n",
    "df['Month'] = df['Date received'].dt.month\n",
    "df['Week Number']=df['Date received'].dt.week"
   ]
  },
  {
   "cell_type": "code",
   "execution_count": 4,
   "metadata": {},
   "outputs": [],
   "source": [
    "# Function to eliminate extra characters and symbols from the column ZIP Code\n",
    "def replace_ZIP_code_XX_USMOI(x):\n",
    "    '''\n",
    "    Replace XX in Zip code to 00\n",
    "    '''\n",
    "    try: \n",
    "        return x.replace('XX', '00').replace('(','').replace('\"','').replace('-','').replace('$','').replace('.','').replace('!','').replace('+','').replace('*','').replace('`','').replace('/','').replace('UNITED STATES MINOR OUTLYING ISLANDS','USMOI')\n",
    "    except AttributeError:\n",
    "        return np.NaN\n",
    "\n",
    "df['ZIP code'] = df['ZIP code'].map(replace_ZIP_code_XX_USMOI)\n",
    "df[\"State\"] = df[\"State\"].map(replace_ZIP_code_XX_USMOI)"
   ]
  },
  {
   "cell_type": "code",
   "execution_count": 5,
   "metadata": {},
   "outputs": [],
   "source": [
    "df['ZIP code'] = df['ZIP code'].fillna(\"00000\").astype(int) # Filling blank values of ZIP code and converting it to the type integer\n",
    "\n",
    "#Filling the blank values with the string \"Not given\"\n",
    "df['State'] = df['State'].fillna(\"Not given\")\n",
    "df['Product'] = df['Product'].fillna(\"Not given\")\n",
    "df['Sub-product'] = df['Sub-product'].fillna(\"Not given\")\n",
    "df['Issue'] = df['Issue'].fillna(\"Not given\")\n",
    "df['Sub-issue'] = df['Sub-issue'].fillna(\"Not given\")\n",
    "df['Consumer complaint narrative'] = df['Consumer complaint narrative'].fillna(\"Not given\")\n",
    "df['Company public response'] = df['Company public response'].fillna(\"Not given\")\n",
    "df['Company response to consumer'] = df['Company response to consumer'].fillna(\"Not given\")\n",
    "df['Consumer consent provided?'] = df['Consumer consent provided?'].fillna(\"Not given\")\n",
    "df['Consumer disputed?'] = df['Consumer disputed?'].fillna(\"Not given\")\n",
    "df['Tags'] = df['Tags'].fillna(\"Not given\")"
   ]
  },
  {
   "cell_type": "code",
   "execution_count": 6,
   "metadata": {},
   "outputs": [
    {
     "data": {
      "text/html": [
       "<div>\n",
       "<style scoped>\n",
       "    .dataframe tbody tr th:only-of-type {\n",
       "        vertical-align: middle;\n",
       "    }\n",
       "\n",
       "    .dataframe tbody tr th {\n",
       "        vertical-align: top;\n",
       "    }\n",
       "\n",
       "    .dataframe thead th {\n",
       "        text-align: right;\n",
       "    }\n",
       "</style>\n",
       "<table border=\"1\" class=\"dataframe\">\n",
       "  <thead>\n",
       "    <tr style=\"text-align: right;\">\n",
       "      <th></th>\n",
       "      <th>missing counts</th>\n",
       "    </tr>\n",
       "  </thead>\n",
       "  <tbody>\n",
       "    <tr>\n",
       "      <th>Date received</th>\n",
       "      <td>0</td>\n",
       "    </tr>\n",
       "    <tr>\n",
       "      <th>Product</th>\n",
       "      <td>0</td>\n",
       "    </tr>\n",
       "    <tr>\n",
       "      <th>Sub-product</th>\n",
       "      <td>0</td>\n",
       "    </tr>\n",
       "    <tr>\n",
       "      <th>Issue</th>\n",
       "      <td>0</td>\n",
       "    </tr>\n",
       "    <tr>\n",
       "      <th>Sub-issue</th>\n",
       "      <td>0</td>\n",
       "    </tr>\n",
       "    <tr>\n",
       "      <th>Consumer complaint narrative</th>\n",
       "      <td>0</td>\n",
       "    </tr>\n",
       "    <tr>\n",
       "      <th>Company public response</th>\n",
       "      <td>0</td>\n",
       "    </tr>\n",
       "    <tr>\n",
       "      <th>Company</th>\n",
       "      <td>0</td>\n",
       "    </tr>\n",
       "    <tr>\n",
       "      <th>State</th>\n",
       "      <td>0</td>\n",
       "    </tr>\n",
       "    <tr>\n",
       "      <th>ZIP code</th>\n",
       "      <td>0</td>\n",
       "    </tr>\n",
       "    <tr>\n",
       "      <th>Tags</th>\n",
       "      <td>0</td>\n",
       "    </tr>\n",
       "    <tr>\n",
       "      <th>Consumer consent provided?</th>\n",
       "      <td>0</td>\n",
       "    </tr>\n",
       "    <tr>\n",
       "      <th>Submitted via</th>\n",
       "      <td>0</td>\n",
       "    </tr>\n",
       "    <tr>\n",
       "      <th>Date sent to company</th>\n",
       "      <td>0</td>\n",
       "    </tr>\n",
       "    <tr>\n",
       "      <th>Company response to consumer</th>\n",
       "      <td>0</td>\n",
       "    </tr>\n",
       "    <tr>\n",
       "      <th>Timely response?</th>\n",
       "      <td>0</td>\n",
       "    </tr>\n",
       "    <tr>\n",
       "      <th>Consumer disputed?</th>\n",
       "      <td>0</td>\n",
       "    </tr>\n",
       "    <tr>\n",
       "      <th>Complaint ID</th>\n",
       "      <td>0</td>\n",
       "    </tr>\n",
       "    <tr>\n",
       "      <th>Year</th>\n",
       "      <td>0</td>\n",
       "    </tr>\n",
       "    <tr>\n",
       "      <th>Month</th>\n",
       "      <td>0</td>\n",
       "    </tr>\n",
       "    <tr>\n",
       "      <th>Week Number</th>\n",
       "      <td>0</td>\n",
       "    </tr>\n",
       "  </tbody>\n",
       "</table>\n",
       "</div>"
      ],
      "text/plain": [
       "                              missing counts\n",
       "Date received                              0\n",
       "Product                                    0\n",
       "Sub-product                                0\n",
       "Issue                                      0\n",
       "Sub-issue                                  0\n",
       "Consumer complaint narrative               0\n",
       "Company public response                    0\n",
       "Company                                    0\n",
       "State                                      0\n",
       "ZIP code                                   0\n",
       "Tags                                       0\n",
       "Consumer consent provided?                 0\n",
       "Submitted via                              0\n",
       "Date sent to company                       0\n",
       "Company response to consumer               0\n",
       "Timely response?                           0\n",
       "Consumer disputed?                         0\n",
       "Complaint ID                               0\n",
       "Year                                       0\n",
       "Month                                      0\n",
       "Week Number                                0"
      ]
     },
     "execution_count": 6,
     "metadata": {},
     "output_type": "execute_result"
    }
   ],
   "source": [
    "df.isnull().sum().to_frame(name='missing counts') #Calculation of missing counts in each column"
   ]
  },
  {
   "cell_type": "code",
   "execution_count": 7,
   "metadata": {},
   "outputs": [
    {
     "data": {
      "text/html": [
       "<div>\n",
       "<style scoped>\n",
       "    .dataframe tbody tr th:only-of-type {\n",
       "        vertical-align: middle;\n",
       "    }\n",
       "\n",
       "    .dataframe tbody tr th {\n",
       "        vertical-align: top;\n",
       "    }\n",
       "\n",
       "    .dataframe thead th {\n",
       "        text-align: right;\n",
       "    }\n",
       "</style>\n",
       "<table border=\"1\" class=\"dataframe\">\n",
       "  <thead>\n",
       "    <tr style=\"text-align: right;\">\n",
       "      <th></th>\n",
       "      <th>Type</th>\n",
       "    </tr>\n",
       "  </thead>\n",
       "  <tbody>\n",
       "    <tr>\n",
       "      <th>Date received</th>\n",
       "      <td>datetime64[ns]</td>\n",
       "    </tr>\n",
       "    <tr>\n",
       "      <th>Product</th>\n",
       "      <td>object</td>\n",
       "    </tr>\n",
       "    <tr>\n",
       "      <th>Sub-product</th>\n",
       "      <td>object</td>\n",
       "    </tr>\n",
       "    <tr>\n",
       "      <th>Issue</th>\n",
       "      <td>object</td>\n",
       "    </tr>\n",
       "    <tr>\n",
       "      <th>Sub-issue</th>\n",
       "      <td>object</td>\n",
       "    </tr>\n",
       "    <tr>\n",
       "      <th>Consumer complaint narrative</th>\n",
       "      <td>object</td>\n",
       "    </tr>\n",
       "    <tr>\n",
       "      <th>Company public response</th>\n",
       "      <td>object</td>\n",
       "    </tr>\n",
       "    <tr>\n",
       "      <th>Company</th>\n",
       "      <td>object</td>\n",
       "    </tr>\n",
       "    <tr>\n",
       "      <th>State</th>\n",
       "      <td>object</td>\n",
       "    </tr>\n",
       "    <tr>\n",
       "      <th>ZIP code</th>\n",
       "      <td>int64</td>\n",
       "    </tr>\n",
       "    <tr>\n",
       "      <th>Tags</th>\n",
       "      <td>object</td>\n",
       "    </tr>\n",
       "    <tr>\n",
       "      <th>Consumer consent provided?</th>\n",
       "      <td>object</td>\n",
       "    </tr>\n",
       "    <tr>\n",
       "      <th>Submitted via</th>\n",
       "      <td>object</td>\n",
       "    </tr>\n",
       "    <tr>\n",
       "      <th>Date sent to company</th>\n",
       "      <td>datetime64[ns]</td>\n",
       "    </tr>\n",
       "    <tr>\n",
       "      <th>Company response to consumer</th>\n",
       "      <td>object</td>\n",
       "    </tr>\n",
       "    <tr>\n",
       "      <th>Timely response?</th>\n",
       "      <td>object</td>\n",
       "    </tr>\n",
       "    <tr>\n",
       "      <th>Consumer disputed?</th>\n",
       "      <td>object</td>\n",
       "    </tr>\n",
       "    <tr>\n",
       "      <th>Complaint ID</th>\n",
       "      <td>int64</td>\n",
       "    </tr>\n",
       "    <tr>\n",
       "      <th>Year</th>\n",
       "      <td>int64</td>\n",
       "    </tr>\n",
       "    <tr>\n",
       "      <th>Month</th>\n",
       "      <td>int64</td>\n",
       "    </tr>\n",
       "    <tr>\n",
       "      <th>Week Number</th>\n",
       "      <td>int64</td>\n",
       "    </tr>\n",
       "  </tbody>\n",
       "</table>\n",
       "</div>"
      ],
      "text/plain": [
       "                                        Type\n",
       "Date received                 datetime64[ns]\n",
       "Product                               object\n",
       "Sub-product                           object\n",
       "Issue                                 object\n",
       "Sub-issue                             object\n",
       "Consumer complaint narrative          object\n",
       "Company public response               object\n",
       "Company                               object\n",
       "State                                 object\n",
       "ZIP code                               int64\n",
       "Tags                                  object\n",
       "Consumer consent provided?            object\n",
       "Submitted via                         object\n",
       "Date sent to company          datetime64[ns]\n",
       "Company response to consumer          object\n",
       "Timely response?                      object\n",
       "Consumer disputed?                    object\n",
       "Complaint ID                           int64\n",
       "Year                                   int64\n",
       "Month                                  int64\n",
       "Week Number                            int64"
      ]
     },
     "execution_count": 7,
     "metadata": {},
     "output_type": "execute_result"
    }
   ],
   "source": [
    "df.dtypes.to_frame(name='Type') #Checking the datatypes of the column after Data cleaning"
   ]
  },
  {
   "cell_type": "code",
   "execution_count": 8,
   "metadata": {},
   "outputs": [],
   "source": [
    "complaints_data = df[(df['Date received'] > '2018-1-1') & (df['Date received'] <= '2020-10-31')] #Subsetting the data from the original dataframe and considering last 3 years data for our analysis"
   ]
  },
  {
   "cell_type": "code",
   "execution_count": 9,
   "metadata": {},
   "outputs": [
    {
     "name": "stderr",
     "output_type": "stream",
     "text": [
      "<ipython-input-9-b13ea673308e>:8: SettingWithCopyWarning: \n",
      "A value is trying to be set on a copy of a slice from a DataFrame.\n",
      "Try using .loc[row_indexer,col_indexer] = value instead\n",
      "\n",
      "See the caveats in the documentation: https://pandas.pydata.org/pandas-docs/stable/user_guide/indexing.html#returning-a-view-versus-a-copy\n",
      "  complaints_data['Month']=complaints_data['Month'].apply(mapper)\n"
     ]
    }
   ],
   "source": [
    "#Function to map month numbers to the actual month name\n",
    "\n",
    "month_map = {1: 'January', 2: 'February', 3:'March', 4:'April', 5:'May', 6:'June', 7:'July', 8:'August',\n",
    "             9:'September', 10:'October', 11:'November', 12:'December'}\n",
    "def mapper(Month):\n",
    "    return month_map[Month]\n",
    "\n",
    "complaints_data['Month']=complaints_data['Month'].apply(mapper)"
   ]
  },
  {
   "cell_type": "code",
   "execution_count": 10,
   "metadata": {},
   "outputs": [
    {
     "data": {
      "text/html": [
       "<div>\n",
       "<style scoped>\n",
       "    .dataframe tbody tr th:only-of-type {\n",
       "        vertical-align: middle;\n",
       "    }\n",
       "\n",
       "    .dataframe tbody tr th {\n",
       "        vertical-align: top;\n",
       "    }\n",
       "\n",
       "    .dataframe thead th {\n",
       "        text-align: right;\n",
       "    }\n",
       "</style>\n",
       "<table border=\"1\" class=\"dataframe\">\n",
       "  <thead>\n",
       "    <tr style=\"text-align: right;\">\n",
       "      <th></th>\n",
       "      <th>Date received</th>\n",
       "      <th>Product</th>\n",
       "      <th>Sub-product</th>\n",
       "      <th>Issue</th>\n",
       "      <th>Sub-issue</th>\n",
       "      <th>Consumer complaint narrative</th>\n",
       "      <th>Company public response</th>\n",
       "      <th>Company</th>\n",
       "      <th>State</th>\n",
       "      <th>ZIP code</th>\n",
       "      <th>...</th>\n",
       "      <th>Consumer consent provided?</th>\n",
       "      <th>Submitted via</th>\n",
       "      <th>Date sent to company</th>\n",
       "      <th>Company response to consumer</th>\n",
       "      <th>Timely response?</th>\n",
       "      <th>Consumer disputed?</th>\n",
       "      <th>Complaint ID</th>\n",
       "      <th>Year</th>\n",
       "      <th>Month</th>\n",
       "      <th>Week Number</th>\n",
       "    </tr>\n",
       "  </thead>\n",
       "  <tbody>\n",
       "    <tr>\n",
       "      <th>0</th>\n",
       "      <td>2019-09-24</td>\n",
       "      <td>Debt collection</td>\n",
       "      <td>I do not know</td>\n",
       "      <td>Attempts to collect debt not owed</td>\n",
       "      <td>Debt is not yours</td>\n",
       "      <td>transworld systems inc. \\nis trying to collect...</td>\n",
       "      <td>Not given</td>\n",
       "      <td>TRANSWORLD SYSTEMS INC</td>\n",
       "      <td>FL</td>\n",
       "      <td>33500</td>\n",
       "      <td>...</td>\n",
       "      <td>Consent provided</td>\n",
       "      <td>Web</td>\n",
       "      <td>2019-09-24</td>\n",
       "      <td>Closed with explanation</td>\n",
       "      <td>Yes</td>\n",
       "      <td>Not given</td>\n",
       "      <td>3384392</td>\n",
       "      <td>2019</td>\n",
       "      <td>September</td>\n",
       "      <td>39</td>\n",
       "    </tr>\n",
       "    <tr>\n",
       "      <th>1</th>\n",
       "      <td>2019-09-19</td>\n",
       "      <td>Credit reporting, credit repair services, or o...</td>\n",
       "      <td>Credit reporting</td>\n",
       "      <td>Incorrect information on your report</td>\n",
       "      <td>Information belongs to someone else</td>\n",
       "      <td>Not given</td>\n",
       "      <td>Company has responded to the consumer and the ...</td>\n",
       "      <td>Experian Information Solutions Inc.</td>\n",
       "      <td>PA</td>\n",
       "      <td>15206</td>\n",
       "      <td>...</td>\n",
       "      <td>Consent not provided</td>\n",
       "      <td>Web</td>\n",
       "      <td>2019-09-20</td>\n",
       "      <td>Closed with non-monetary relief</td>\n",
       "      <td>Yes</td>\n",
       "      <td>Not given</td>\n",
       "      <td>3379500</td>\n",
       "      <td>2019</td>\n",
       "      <td>September</td>\n",
       "      <td>38</td>\n",
       "    </tr>\n",
       "    <tr>\n",
       "      <th>2</th>\n",
       "      <td>2019-11-08</td>\n",
       "      <td>Debt collection</td>\n",
       "      <td>I do not know</td>\n",
       "      <td>Communication tactics</td>\n",
       "      <td>Frequent or repeated calls</td>\n",
       "      <td>Over the past 2 weeks, I have been receiving e...</td>\n",
       "      <td>Not given</td>\n",
       "      <td>Diversified Consultants, Inc.</td>\n",
       "      <td>NC</td>\n",
       "      <td>27500</td>\n",
       "      <td>...</td>\n",
       "      <td>Consent provided</td>\n",
       "      <td>Web</td>\n",
       "      <td>2019-11-08</td>\n",
       "      <td>Closed with explanation</td>\n",
       "      <td>Yes</td>\n",
       "      <td>Not given</td>\n",
       "      <td>3433198</td>\n",
       "      <td>2019</td>\n",
       "      <td>November</td>\n",
       "      <td>45</td>\n",
       "    </tr>\n",
       "    <tr>\n",
       "      <th>3</th>\n",
       "      <td>2019-09-15</td>\n",
       "      <td>Debt collection</td>\n",
       "      <td>Other debt</td>\n",
       "      <td>Attempts to collect debt not owed</td>\n",
       "      <td>Debt was result of identity theft</td>\n",
       "      <td>Pioneer has committed several federal violatio...</td>\n",
       "      <td>Not given</td>\n",
       "      <td>Pioneer Capital Solutions Inc</td>\n",
       "      <td>CA</td>\n",
       "      <td>92500</td>\n",
       "      <td>...</td>\n",
       "      <td>Consent provided</td>\n",
       "      <td>Web</td>\n",
       "      <td>2019-09-15</td>\n",
       "      <td>Closed with explanation</td>\n",
       "      <td>Yes</td>\n",
       "      <td>Not given</td>\n",
       "      <td>3374555</td>\n",
       "      <td>2019</td>\n",
       "      <td>September</td>\n",
       "      <td>37</td>\n",
       "    </tr>\n",
       "    <tr>\n",
       "      <th>4</th>\n",
       "      <td>2019-01-24</td>\n",
       "      <td>Credit card or prepaid card</td>\n",
       "      <td>General-purpose credit card or charge card</td>\n",
       "      <td>Problem with a purchase shown on your statement</td>\n",
       "      <td>Card was charged for something you did not pur...</td>\n",
       "      <td>Not given</td>\n",
       "      <td>Not given</td>\n",
       "      <td>CAPITAL ONE FINANCIAL CORPORATION</td>\n",
       "      <td>TX</td>\n",
       "      <td>78700</td>\n",
       "      <td>...</td>\n",
       "      <td>Not given</td>\n",
       "      <td>Referral</td>\n",
       "      <td>2019-01-25</td>\n",
       "      <td>Closed with explanation</td>\n",
       "      <td>Yes</td>\n",
       "      <td>Not given</td>\n",
       "      <td>3133345</td>\n",
       "      <td>2019</td>\n",
       "      <td>January</td>\n",
       "      <td>4</td>\n",
       "    </tr>\n",
       "  </tbody>\n",
       "</table>\n",
       "<p>5 rows × 21 columns</p>\n",
       "</div>"
      ],
      "text/plain": [
       "  Date received                                            Product  \\\n",
       "0    2019-09-24                                    Debt collection   \n",
       "1    2019-09-19  Credit reporting, credit repair services, or o...   \n",
       "2    2019-11-08                                    Debt collection   \n",
       "3    2019-09-15                                    Debt collection   \n",
       "4    2019-01-24                        Credit card or prepaid card   \n",
       "\n",
       "                                  Sub-product  \\\n",
       "0                               I do not know   \n",
       "1                            Credit reporting   \n",
       "2                               I do not know   \n",
       "3                                  Other debt   \n",
       "4  General-purpose credit card or charge card   \n",
       "\n",
       "                                             Issue  \\\n",
       "0                Attempts to collect debt not owed   \n",
       "1             Incorrect information on your report   \n",
       "2                            Communication tactics   \n",
       "3                Attempts to collect debt not owed   \n",
       "4  Problem with a purchase shown on your statement   \n",
       "\n",
       "                                           Sub-issue  \\\n",
       "0                                  Debt is not yours   \n",
       "1                Information belongs to someone else   \n",
       "2                         Frequent or repeated calls   \n",
       "3                  Debt was result of identity theft   \n",
       "4  Card was charged for something you did not pur...   \n",
       "\n",
       "                        Consumer complaint narrative  \\\n",
       "0  transworld systems inc. \\nis trying to collect...   \n",
       "1                                          Not given   \n",
       "2  Over the past 2 weeks, I have been receiving e...   \n",
       "3  Pioneer has committed several federal violatio...   \n",
       "4                                          Not given   \n",
       "\n",
       "                             Company public response  \\\n",
       "0                                          Not given   \n",
       "1  Company has responded to the consumer and the ...   \n",
       "2                                          Not given   \n",
       "3                                          Not given   \n",
       "4                                          Not given   \n",
       "\n",
       "                               Company State  ZIP code  ...  \\\n",
       "0               TRANSWORLD SYSTEMS INC    FL     33500  ...   \n",
       "1  Experian Information Solutions Inc.    PA     15206  ...   \n",
       "2        Diversified Consultants, Inc.    NC     27500  ...   \n",
       "3        Pioneer Capital Solutions Inc    CA     92500  ...   \n",
       "4    CAPITAL ONE FINANCIAL CORPORATION    TX     78700  ...   \n",
       "\n",
       "  Consumer consent provided? Submitted via Date sent to company  \\\n",
       "0           Consent provided           Web           2019-09-24   \n",
       "1       Consent not provided           Web           2019-09-20   \n",
       "2           Consent provided           Web           2019-11-08   \n",
       "3           Consent provided           Web           2019-09-15   \n",
       "4                  Not given      Referral           2019-01-25   \n",
       "\n",
       "      Company response to consumer Timely response? Consumer disputed?  \\\n",
       "0          Closed with explanation              Yes          Not given   \n",
       "1  Closed with non-monetary relief              Yes          Not given   \n",
       "2          Closed with explanation              Yes          Not given   \n",
       "3          Closed with explanation              Yes          Not given   \n",
       "4          Closed with explanation              Yes          Not given   \n",
       "\n",
       "  Complaint ID  Year      Month Week Number  \n",
       "0      3384392  2019  September          39  \n",
       "1      3379500  2019  September          38  \n",
       "2      3433198  2019   November          45  \n",
       "3      3374555  2019  September          37  \n",
       "4      3133345  2019    January           4  \n",
       "\n",
       "[5 rows x 21 columns]"
      ]
     },
     "execution_count": 10,
     "metadata": {},
     "output_type": "execute_result"
    }
   ],
   "source": [
    "complaints_data.head(5)"
   ]
  },
  {
   "cell_type": "markdown",
   "metadata": {},
   "source": [
    "## 1.3 Data Visualisation"
   ]
  },
  {
   "cell_type": "markdown",
   "metadata": {},
   "source": [
    "### Top 10 Companies by Complaints"
   ]
  },
  {
   "cell_type": "code",
   "execution_count": 11,
   "metadata": {},
   "outputs": [
    {
     "data": {
      "text/plain": [
       "Experian Information Solutions Inc.       132507\n",
       "TRANSUNION INTERMEDIATE HOLDINGS, INC.    130764\n",
       "EQUIFAX, INC.                             128699\n",
       "JPMORGAN CHASE & CO.                       24364\n",
       "CAPITAL ONE FINANCIAL CORPORATION          22980\n",
       "BANK OF AMERICA, NATIONAL ASSOCIATION      22852\n",
       "WELLS FARGO & COMPANY                      22181\n",
       "CITIBANK, N.A.                             21148\n",
       "SYNCHRONY FINANCIAL                        13044\n",
       "Navient Solutions, LLC.                    10614\n",
       "Name: Company, dtype: int64"
      ]
     },
     "execution_count": 11,
     "metadata": {},
     "output_type": "execute_result"
    }
   ],
   "source": [
    "#Top 10 companies by count of complaints recorded\n",
    "complaints_data['Company'].value_counts()[:10]"
   ]
  },
  {
   "cell_type": "code",
   "execution_count": 12,
   "metadata": {},
   "outputs": [
    {
     "data": {
      "text/plain": [
       "<matplotlib.axes._subplots.AxesSubplot at 0x10fca8130>"
      ]
     },
     "execution_count": 12,
     "metadata": {},
     "output_type": "execute_result"
    },
    {
     "data": {
      "image/png": "[encoded data removed]",
      "text/plain": [
       "<Figure size 432x288 with 1 Axes>"
      ]
     },
     "metadata": {
      "needs_background": "light"
     },
     "output_type": "display_data"
    }
   ],
   "source": [
    "# Plot of Top 10 companies by complaints\n",
    "complaints_data.Company.value_counts()[:10].sort_values().plot(title='Top 10 Companies by Complaints', kind='barh')"
   ]
  },
  {
   "cell_type": "markdown",
   "metadata": {},
   "source": [
    "We can observe that the \"Experian Information Solutions\" has maximum customer compalints in all three years combined.\n",
    "\n",
    "Also, the other 2 companies i.e. the \"TRANSUNION INTERMEDIATE HOLDINGS INC\" AND \"EQUIFAX\" do have a similar count of compliants that have been recorded in the past 3 years."
   ]
  },
  {
   "cell_type": "markdown",
   "metadata": {},
   "source": [
    "### Top 10 Complaints by Product"
   ]
  },
  {
   "cell_type": "code",
   "execution_count": 13,
   "metadata": {},
   "outputs": [
    {
     "data": {
      "text/plain": [
       "Credit reporting, credit repair services, or other personal consumer reports    459335\n",
       "Debt collection                                                                 139621\n",
       "Credit card or prepaid card                                                      76754\n",
       "Mortgage                                                                         66629\n",
       "Checking or savings account                                                      62056\n",
       "Student loan                                                                     19623\n",
       "Money transfer, virtual currency, or money service                               17133\n",
       "Vehicle loan or lease                                                            16749\n",
       "Payday loan, title loan, or personal loan                                        12163\n",
       "Name: Product, dtype: int64"
      ]
     },
     "execution_count": 13,
     "metadata": {},
     "output_type": "execute_result"
    }
   ],
   "source": [
    "# Total Number of Complaints received in 2018,2019,2020 by products\n",
    "complaints_data['Product'].value_counts()[:10]"
   ]
  },
  {
   "cell_type": "markdown",
   "metadata": {},
   "source": [
    "We observe that the maximum complaints received were on the product type \"Credit reporting, credit report services\""
   ]
  },
  {
   "cell_type": "code",
   "execution_count": 14,
   "metadata": {},
   "outputs": [
    {
     "data": {
      "text/plain": [
       "<matplotlib.axes._subplots.AxesSubplot at 0x12560bb80>"
      ]
     },
     "execution_count": 14,
     "metadata": {},
     "output_type": "execute_result"
    },
    {
     "data": {
      "image/png": "[encoded data removed]",
      "text/plain": [
       "<Figure size 432x288 with 1 Axes>"
      ]
     },
     "metadata": {
      "needs_background": "light"
     },
     "output_type": "display_data"
    }
   ],
   "source": [
    "# Plot of the Total Number of Complaints received in 2018,2019,2020 by products\n",
    "complaints_data['Product'].value_counts()[:10].sort_values().plot(title='Complaints by Product', kind='barh')"
   ]
  },
  {
   "cell_type": "markdown",
   "metadata": {},
   "source": [
    "### Top 5 Complaints by Company Responses"
   ]
  },
  {
   "cell_type": "code",
   "execution_count": 15,
   "metadata": {},
   "outputs": [
    {
     "data": {
      "text/plain": [
       "Closed with explanation            727839\n",
       "Closed with non-monetary relief     99269\n",
       "Closed with monetary relief         33092\n",
       "In progress                          5984\n",
       "Untimely response                    3877\n",
       "Not given                               2\n",
       "Name: Company response to consumer, dtype: int64"
      ]
     },
     "execution_count": 15,
     "metadata": {},
     "output_type": "execute_result"
    }
   ],
   "source": [
    "#Distribution of response type by companies\n",
    "complaints_data['Company response to consumer'].value_counts()"
   ]
  },
  {
   "cell_type": "code",
   "execution_count": 16,
   "metadata": {},
   "outputs": [
    {
     "data": {
      "text/plain": [
       "<matplotlib.axes._subplots.AxesSubplot at 0x12565e610>"
      ]
     },
     "execution_count": 16,
     "metadata": {},
     "output_type": "execute_result"
    },
    {
     "data": {
      "image/png": "[encoded data removed]",
      "text/plain": [
       "<Figure size 432x288 with 1 Axes>"
      ]
     },
     "metadata": {
      "needs_background": "light"
     },
     "output_type": "display_data"
    }
   ],
   "source": [
    "#Plot of response type by companies\n",
    "complaints_data['Company response to consumer'].value_counts()[:10].sort_values().plot(title=\"Company Responses\", kind='barh')"
   ]
  },
  {
   "cell_type": "markdown",
   "metadata": {},
   "source": [
    "We can understand that most of the complaints received, were closed with the explanation. However, the Consumer disputed is not available to understand whether the customer satisfaction rate is high or low."
   ]
  },
  {
   "cell_type": "markdown",
   "metadata": {},
   "source": [
    "### Number of complaints with timely response"
   ]
  },
  {
   "cell_type": "code",
   "execution_count": 17,
   "metadata": {},
   "outputs": [
    {
     "name": "stdout",
     "output_type": "stream",
     "text": [
      "Number of complaints resolved and unresolved in the last three years\n",
      "Yes    857591\n",
      "No      12472\n",
      "Name: Timely response?, dtype: int64\n"
     ]
    }
   ],
   "source": [
    "# Complaints resolved and unresolved\n",
    "print('Number of complaints resolved and unresolved in the last three years')\n",
    "print(complaints_data['Timely response?'].value_counts()[:10])"
   ]
  },
  {
   "cell_type": "code",
   "execution_count": 18,
   "metadata": {},
   "outputs": [
    {
     "data": {
      "text/plain": [
       "<matplotlib.axes._subplots.AxesSubplot at 0x1257a6df0>"
      ]
     },
     "execution_count": 18,
     "metadata": {},
     "output_type": "execute_result"
    },
    {
     "data": {
      "image/png": "[encoded data removed]",
      "text/plain": [
       "<Figure size 432x288 with 1 Axes>"
      ]
     },
     "metadata": {
      "needs_background": "light"
     },
     "output_type": "display_data"
    }
   ],
   "source": [
    "sns.countplot(data = complaints_data, x = 'Timely response?')"
   ]
  },
  {
   "cell_type": "markdown",
   "metadata": {},
   "source": [
    "With almost 98% of the complaints being resolved, there is a discrepancy in understanding the customer satisfaction rate for these resolved complaints"
   ]
  },
  {
   "cell_type": "markdown",
   "metadata": {},
   "source": [
    "### Complaints by the day of the week"
   ]
  },
  {
   "cell_type": "code",
   "execution_count": 19,
   "metadata": {},
   "outputs": [
    {
     "name": "stderr",
     "output_type": "stream",
     "text": [
      "<ipython-input-19-2026df8d1ee6>:7: SettingWithCopyWarning: \n",
      "A value is trying to be set on a copy of a slice from a DataFrame.\n",
      "Try using .loc[row_indexer,col_indexer] = value instead\n",
      "\n",
      "See the caveats in the documentation: https://pandas.pydata.org/pandas-docs/stable/user_guide/indexing.html#returning-a-view-versus-a-copy\n",
      "  dups_complaints_data['weekday'] = dups_complaints_data.index.weekday\n"
     ]
    }
   ],
   "source": [
    "#Number of Complaints by the day of the week\n",
    "\n",
    "dups_complaints_data = df.copy() #Copied the df data as we need an \"object\" for \"Date Received\" parameter and for \"complaints_data\" dataframe \"Date received\" parameter has been changed to \"datetimens\" format\n",
    "dups_complaints_data = df[(df['Date received'] > '2018-1-1') & (df['Date received'] <= '2020-10-31')] #CONSIDERING LAST 3 YEARS DATA FOR OUR ANALYSIS\n",
    "date_series = dups_complaints_data.pop('Date received')\n",
    "dups_complaints_data.index = pd.to_datetime(date_series, format='%m/%d/%Y')\n",
    "dups_complaints_data['weekday'] = dups_complaints_data.index.weekday\n",
    "dups_complaints_data = dups_complaints_data.replace({'weekday': {0: 'Monday', 1: 'Tuesday', 2: 'Wednesday',\n",
    "                                   3: 'Thursday', 4: 'Friday', 5: 'Saturday', 6: 'Sunday'}})"
   ]
  },
  {
   "cell_type": "code",
   "execution_count": 20,
   "metadata": {},
   "outputs": [
    {
     "data": {
      "text/plain": [
       "<matplotlib.axes._subplots.AxesSubplot at 0x1248e5af0>"
      ]
     },
     "execution_count": 20,
     "metadata": {},
     "output_type": "execute_result"
    },
    {
     "data": {
      "image/png": "[encoded data removed]",
      "text/plain": [
       "<Figure size 432x288 with 1 Axes>"
      ]
     },
     "metadata": {
      "needs_background": "light"
     },
     "output_type": "display_data"
    }
   ],
   "source": [
    "#Plot to observe which day of the week had maximum complaints\n",
    "dups_complaints_data.weekday.value_counts().sort_values().plot(title='Complaints by Days of a Week', kind='barh')"
   ]
  },
  {
   "cell_type": "markdown",
   "metadata": {},
   "source": [
    "As seen in bar plot, we observe a trend that Tuesday, Wednesday and Thursday do have maximum complaints in the week with weekends being a bit calm."
   ]
  },
  {
   "cell_type": "markdown",
   "metadata": {},
   "source": [
    "# 1.4 Descriptive Analytics\n",
    "\n",
    "\n",
    "Descriptive statistics is an important component to make informed strategic business decisions based on historical data. "
   ]
  },
  {
   "cell_type": "code",
   "execution_count": 21,
   "metadata": {},
   "outputs": [
    {
     "name": "stdout",
     "output_type": "stream",
     "text": [
      "\n",
      "The number of complaints by year are \n",
      "Year\n",
      "2018    257038\n",
      "2019    277380\n",
      "2020    335645\n",
      "Name: Complaint ID, dtype: int64\n",
      "\n",
      "\n",
      "The number of complaints by state are\n",
      "State\n",
      "CA    107900\n",
      "FL    106767\n",
      "TX     86128\n",
      "NY     58730\n",
      "GA     52359\n",
      "       ...  \n",
      "GU        67\n",
      "AA        20\n",
      "AS         7\n",
      "MP         3\n",
      "MH         1\n",
      "Name: Complaint ID, Length: 63, dtype: int64\n",
      "\n",
      "\n",
      "The timely response of a complaint based in following years\n",
      "Year  Timely response?\n",
      "2018  Yes                 252462\n",
      "      No                    4576\n",
      "2019  Yes                 273079\n",
      "      No                    4301\n",
      "2020  Yes                 332050\n",
      "      No                    3595\n",
      "Name: Timely response?, dtype: int64\n",
      "\n",
      "Submitted via  Timely response?\n",
      "Email          Yes                     67\n",
      "Fax            Yes                   9714\n",
      "               No                     107\n",
      "Phone          Yes                  42992\n",
      "               No                    1038\n",
      "Postal mail    Yes                  21285\n",
      "               No                     295\n",
      "Referral       Yes                  55241\n",
      "               No                     658\n",
      "Web            Yes                 728292\n",
      "               No                   10374\n",
      "Name: Timely response?, dtype: int64\n"
     ]
    }
   ],
   "source": [
    "complaints_data_desc = complaints_data.copy()\n",
    "\n",
    "# The variable complaints_year gives the number of complaints registered in the years 2018,2019,and 2020 \n",
    "# It can be observed that the 2020 has the most number of complaints, during the pandemic and is comparitively more than 2018 or 2019\n",
    "\n",
    "complaints_year=complaints_data_desc.groupby(by = 'Year')['Complaint ID'].count()\n",
    "print(f'\\nThe number of complaints by year are \\n{complaints_year}\\n') \n",
    "\n",
    "# The variable complaints_state gives the number of complaints registerd by state in descending order - \n",
    "# From the output  we can observe that California has the highest number of complaints logged.\n",
    "\n",
    "complaints_state=complaints_data_desc.groupby(by = 'State')['Complaint ID'].count().sort_values(ascending=False)\n",
    "print(f'\\nThe number of complaints by state are\\n{complaints_state}\\n')\n",
    "\n",
    "\n",
    "# Timely response was recorded by yes or no & response_year exhibits the timely responses to the complaints sorted by each of the foloowing years(2018,2019,2020).\n",
    "\n",
    "complaints_resp=complaints_data_desc.groupby('Year')['Timely response?'].value_counts()\n",
    "print(f'\\nThe timely response of a complaint based in following years\\n{complaints_resp}\\n')\n",
    "\n",
    "\n",
    "# Complaints were submitted in various ways like Web,Email,Fax,Phone, Post mail,Referral, submittedby potrays the timely response of complaints submitted by each of these methods.\n",
    "\n",
    "complaints_hist = complaints_data_desc.groupby('Submitted via')['Timely response?'].value_counts()\n",
    "print(complaints_hist)"
   ]
  },
  {
   "cell_type": "markdown",
   "metadata": {},
   "source": [
    "From the above output we observe that the number of complaints submitted via web were the highest and via fax were the lowest. \n",
    "\n",
    "So, analyzing both the data we can see that the complaints submitted via web and fax, maximum complaints were closed with an explaination and only few complaints did not get a timely response."
   ]
  },
  {
   "cell_type": "code",
   "execution_count": 22,
   "metadata": {},
   "outputs": [
    {
     "name": "stdout",
     "output_type": "stream",
     "text": [
      "\n",
      "The company responses of complaints submitted by web are\n",
      "Closed with explanation            619678\n",
      "Closed with non-monetary relief     87982\n",
      "Closed with monetary relief         23018\n",
      "In progress                          4694\n",
      "Untimely response                    3292\n",
      "Not given                               2\n",
      "Name: Company response to consumer, dtype: int64\n",
      "\n",
      "\n",
      "The company responses of complaints submitted by fax are\n",
      "Closed with explanation            8149\n",
      "Closed with non-monetary relief    1423\n",
      "Closed with monetary relief         181\n",
      "In progress                          40\n",
      "Untimely response                    28\n",
      "Name: Company response to consumer, dtype: int64\n",
      "\n"
     ]
    }
   ],
   "source": [
    "#The number of complaints submittes via web are the highest and via fax are the lowest so lets look at the companies responses to both of them\n",
    "\n",
    "#response_web represents the company response to the customerss ubmitted via web\n",
    "\n",
    "response_web = complaints_data_desc['Company response to consumer'][complaints_data_desc['Submitted via']=='Web'].value_counts()\n",
    "print(f'\\nThe company responses of complaints submitted by web are\\n{response_web}\\n')\n",
    "\n",
    "#response_fax represents the company response to the customerss ubmitted via fax\n",
    "\n",
    "response_fax = complaints_data_desc['Company response to consumer'][complaints_data_desc['Submitted via']=='Fax'].value_counts()\n",
    "print(f'\\nThe company responses of complaints submitted by fax are\\n{response_fax}\\n')"
   ]
  },
  {
   "cell_type": "markdown",
   "metadata": {},
   "source": [
    "As we observe that most of the complaints were closed with an explanation, we have analyzed the top 20 issues that were timely responded and were closed with an explanation. \n",
    "\n",
    "From the below analysis we can observe that complaints with incorrect information on the report and problem with a credit reporting company's investigation into an existing problem were resolved and colsed with an explanation."
   ]
  },
  {
   "cell_type": "code",
   "execution_count": 23,
   "metadata": {},
   "outputs": [
    {
     "data": {
      "text/plain": [
       "Company response to consumer  Issue                                                                           \n",
       "Closed with explanation       Incorrect information on your report                                                258311\n",
       "                              Problem with a credit reporting company's investigation into an existing problem     91732\n",
       "                              Attempts to collect debt not owed                                                    58829\n",
       "                              Improper use of your report                                                          31703\n",
       "                              Managing an account                                                                  30289\n",
       "                              Trouble during payment process                                                       28999\n",
       "                              Written notification about debt                                                      27636\n",
       "                              Struggling to pay mortgage                                                           18870\n",
       "                              Problem with a purchase shown on your statement                                      13086\n",
       "                              Dealing with your lender or servicer                                                 11277\n",
       "                              Took or threatened to take negative or legal action                                  10746\n",
       "                              False statements or representation                                                   10666\n",
       "                              Communication tactics                                                                10381\n",
       "                              Applying for a mortgage or refinancing an existing mortgage                           6927\n",
       "                              Other features, terms, or problems                                                    6636\n",
       "                              Unable to get your credit report or credit score                                      6304\n",
       "                              Problem when making payments                                                          6088\n",
       "                              Closing an account                                                                    5883\n",
       "                              Fees or interest                                                                      5232\n",
       "                              Problem with fraud alerts or security freezes                                         5135\n",
       "Name: Issue, dtype: int64"
      ]
     },
     "execution_count": 23,
     "metadata": {},
     "output_type": "execute_result"
    }
   ],
   "source": [
    "#top 20 issues that closed with an explanation\n",
    "complaints_data_desc.groupby('Company response to consumer')['Issue'].value_counts()[:20]"
   ]
  },
  {
   "cell_type": "markdown",
   "metadata": {},
   "source": [
    "### Statewise Distribution of Consumer Complaints"
   ]
  },
  {
   "cell_type": "code",
   "execution_count": 24,
   "metadata": {},
   "outputs": [
    {
     "name": "stderr",
     "output_type": "stream",
     "text": [
      "/Library/Frameworks/Python.framework/Versions/3.8/lib/python3.8/site-packages/pandas/core/indexing.py:966: SettingWithCopyWarning: \n",
      "A value is trying to be set on a copy of a slice from a DataFrame.\n",
      "Try using .loc[row_indexer,col_indexer] = value instead\n",
      "\n",
      "See the caveats in the documentation: https://pandas.pydata.org/pandas-docs/stable/user_guide/indexing.html#returning-a-view-versus-a-copy\n",
      "  self.obj[item] = s\n"
     ]
    },
    {
     "data": {
      "image/png": "[encoded data removed]",
      "text/plain": [
       "<Figure size 1800x720 with 1 Axes>"
      ]
     },
     "metadata": {
      "needs_background": "light"
     },
     "output_type": "display_data"
    }
   ],
   "source": [
    "count=complaints_data[['State', 'Complaint ID', 'Date received']]\n",
    "count\n",
    "\n",
    "#As complaint ID has unique complaint, changing them to 1 to get cumulative sum.\n",
    "count.loc[count['Complaint ID'] > 0, 'Complaint ID'] = 1\n",
    "count\n",
    "\n",
    "#Grouped the state and Date recieved columnn and taking cumulative sum\n",
    "complaints_state=count.groupby(['State'])['Complaint ID'].sum().reset_index()\n",
    "\n",
    "plt.figure(figsize=(25,10))\n",
    "\n",
    "x = sns.barplot(x=\"State\", y=\"Complaint ID\", data=complaints_state)\n",
    "plt.xticks(rotation=90)\n",
    "\n",
    "plt.title('Complaint as per each state', fontsize=30)\n",
    "plt.xlabel('State', fontsize=25)\n",
    "plt.ylabel('Number of complaints', fontsize=25)\n",
    "plt.tick_params(axis='both',labelsize=15)"
   ]
  },
  {
   "cell_type": "markdown",
   "metadata": {},
   "source": [
    "California and Florida has the highest number of Compliants, that is observed in the last 3 years"
   ]
  },
  {
   "cell_type": "code",
   "execution_count": 27,
   "metadata": {},
   "outputs": [
    {
     "data": {
      "image/png": "[encoded data removed]",
      "text/plain": [
       "<Figure size 1800x1080 with 1 Axes>"
      ]
     },
     "metadata": {
      "needs_background": "light"
     },
     "output_type": "display_data"
    }
   ],
   "source": [
    "#count the dataframe with column storenum, STRSTATE, YEAR\n",
    "\n",
    "complaints_data_ca=complaints_data[['Issue','State', 'Complaint ID', 'Year']]\n",
    "complaints_data_ca\n",
    "\n",
    "#As complaint ID has unique xomplaint, changing them to 1 to get cumulative sum.\n",
    "complaints_data_ca.loc[count['Complaint ID'] > 0, 'Complaint ID'] = 1\n",
    "\n",
    "# Year and states are grouped together and used cumusum function to get cumulative sum\n",
    "complaints_ca=complaints_data_ca.groupby(['State','Year']).sum().groupby(level=[0]).cumsum(skipna=False)\n",
    "complaints_ca_year = complaints_ca.reset_index()\n",
    "complaints_ca_year\n",
    "\n",
    "# d2 stores the data of state CA\n",
    "complaints_ca=complaints_ca_year[complaints_ca_year['State']=='CA']\n",
    "complaints_ca\n",
    "\n",
    "plt.figure(figsize=(25, 15))\n",
    "\n",
    "\n",
    "plt.plot(np.asarray(complaints_ca['Year']).astype(str),complaints_ca['Complaint ID'],linestyle='--', marker='o', color='b')\n",
    "plt.title('Complaint count over time in California', fontsize=30)\n",
    "plt.xlabel('YEAR', fontsize=25)\n",
    "plt.ylabel('Number of complaints', fontsize=25)\n",
    "plt.tick_params(axis='both',labelsize=15)\n",
    "plt.xticks(rotation=20)\n",
    "plt.show()"
   ]
  },
  {
   "cell_type": "markdown",
   "metadata": {},
   "source": [
    "We can observe the linear increase in complaints for the state california for the past 3 years."
   ]
  },
  {
   "cell_type": "markdown",
   "metadata": {},
   "source": [
    "### Number of Complaints received in the last 3 years"
   ]
  },
  {
   "cell_type": "code",
   "execution_count": 28,
   "metadata": {},
   "outputs": [
    {
     "data": {
      "text/plain": [
       "<matplotlib.axes._subplots.AxesSubplot at 0x124ad5fd0>"
      ]
     },
     "execution_count": 28,
     "metadata": {},
     "output_type": "execute_result"
    },
    {
     "data": {
      "image/png": "[encoded data removed]",
      "text/plain": [
       "<Figure size 432x288 with 1 Axes>"
      ]
     },
     "metadata": {
      "needs_background": "light"
     },
     "output_type": "display_data"
    }
   ],
   "source": [
    "#Plot showing the number of Complaints by year\n",
    "sns.countplot(data = complaints_data, x = 'Year')"
   ]
  },
  {
   "cell_type": "markdown",
   "metadata": {},
   "source": [
    "As we can look into the plot, 2020 has the highest number of complaints when compared to the other years despite the pandemic. So, we can observe that there is a positive increase with the usage of the financial products in the year 2020 with 2 more months for the new year"
   ]
  },
  {
   "cell_type": "markdown",
   "metadata": {},
   "source": [
    "### Number of Complaints received in 2018,2019,2020 by products"
   ]
  },
  {
   "cell_type": "code",
   "execution_count": 29,
   "metadata": {},
   "outputs": [
    {
     "data": {
      "image/png": "[encoded data removed]",
      "text/plain": [
       "<Figure size 1440x576 with 1 Axes>"
      ]
     },
     "metadata": {
      "needs_background": "light"
     },
     "output_type": "display_data"
    }
   ],
   "source": [
    "#Plot showing the number of Complaints by year and products\n",
    "plt.figure(figsize=(20,8)) # this creates a figure 8 inch wide, 4 inch high\n",
    "sns.countplot(x=\"Year\", hue= \"Product\" , data = complaints_data)\n",
    "plt.show()"
   ]
  },
  {
   "cell_type": "markdown",
   "metadata": {},
   "source": [
    "With this plot, we can understand that there is a positive increase in complaints with respect to the \"Credit reporting, credit repair services\" over the years with other products are limited to the same number of complaints.\n",
    "\n",
    "The three nationwide credit reporting agencies (Equifax, Experian and TransUnion) are the most complained-about companies in the last 3 years and these are credit reporting agencies, so we can clearly make out why these companies are the top 3 companies by complaints as we can correlate this graph of complaints by year and product."
   ]
  },
  {
   "cell_type": "markdown",
   "metadata": {},
   "source": [
    "# 1.5 Predictive Analytics\n",
    "\n",
    "Another important aspect to be considered with respect to the Consumer complaints is the resolution, which is important to any business or product. \n",
    "\n",
    "As the dataset comprises of Consumer Complaints on Financial products, here we are trying to build a model which can predict the narrative taken online as to which financial product or service it belongs to.\n",
    "\n",
    "The classification task would help banking/financial institution to quickly identify and provide customized solutions to each customer based on complaints received product wise.\n",
    "\n"
   ]
  },
  {
   "cell_type": "code",
   "execution_count": 30,
   "metadata": {},
   "outputs": [],
   "source": [
    "#importing sklean libraries for building a sample classification model using Logistic Regression\n",
    "import warnings\n",
    "warnings.filterwarnings('ignore')\n",
    "from sklearn.feature_extraction.text import CountVectorizer, TfidfVectorizer \n",
    "from sklearn.model_selection import train_test_split\n",
    "from sklearn import model_selection, preprocessing, linear_model, metrics\n",
    "from sklearn.linear_model import LogisticRegression"
   ]
  },
  {
   "cell_type": "code",
   "execution_count": 31,
   "metadata": {},
   "outputs": [],
   "source": [
    "#Factorizing the product column into categories\n",
    "complaints_data['category_id'] = complaints_data['Product'].factorize()[0]"
   ]
  },
  {
   "cell_type": "code",
   "execution_count": 32,
   "metadata": {},
   "outputs": [
    {
     "data": {
      "text/plain": [
       "9"
      ]
     },
     "execution_count": 32,
     "metadata": {},
     "output_type": "execute_result"
    }
   ],
   "source": [
    "complaints_data['category_id'].nunique()"
   ]
  },
  {
   "cell_type": "code",
   "execution_count": 33,
   "metadata": {},
   "outputs": [],
   "source": [
    "#splitting the data into train and test dataset\n",
    "x_train, x_test, y_train, y_test = model_selection.train_test_split(complaints_data['Consumer complaint narrative'], complaints_data['Product'])"
   ]
  },
  {
   "cell_type": "code",
   "execution_count": 34,
   "metadata": {},
   "outputs": [],
   "source": [
    "#word emedding using term frequency - inverse document frequency TFIDF\n",
    "#Converting text to feature vectors was done using Term Frequency-Inverse Document Frequency\n",
    "\n",
    "# It is a vectorizing technique to mainly measure and assign proportional weight to the words in the Consumer narratives\n",
    "\n",
    "encoder = preprocessing.LabelEncoder() #Label encoding\n",
    "y_train = encoder.fit_transform(y_train)\n",
    "y_test = encoder.fit_transform(y_test)\n",
    "\n",
    "tfidf_vec = TfidfVectorizer(analyzer='word',\n",
    "                           token_pattern=r'\\w{1,}',\n",
    "                            max_features=5000)\n",
    "tfidf_vec.fit(complaints_data['Consumer complaint narrative'])\n",
    "xtrain_tfidf = tfidf_vec.transform(x_train)\n",
    "xtest_tfidf = tfidf_vec.transform(x_test)"
   ]
  },
  {
   "cell_type": "code",
   "execution_count": 35,
   "metadata": {},
   "outputs": [],
   "source": [
    "#Model Building \n",
    "model = linear_model.LogisticRegression(solver='newton-cg', multi_class='multinomial').fit(xtrain_tfidf,  y_train)"
   ]
  },
  {
   "cell_type": "markdown",
   "metadata": {},
   "source": [
    "Logistic regression has been used build a multiclass classification model with solver and multiclass parameters\n",
    "\n",
    "Multiclass classification is a classification task that consists of more than two classes, here we are trying to predict the financial product from the consumer narrative taken down during the logging of the complaint\n",
    "\n",
    "Since it is a for multiclass problems, solver ‘newton' is used and multi-class is 'multinomial' to minimise the loss\n"
   ]
  },
  {
   "cell_type": "code",
   "execution_count": 36,
   "metadata": {},
   "outputs": [
    {
     "name": "stdout",
     "output_type": "stream",
     "text": [
      "Accuracy:  0.6793615182331415\n"
     ]
    }
   ],
   "source": [
    "#Model accuracy\n",
    "accuracy = metrics.accuracy_score(model.predict(xtest_tfidf), y_test)\n",
    "print(\"Accuracy: \", accuracy)"
   ]
  },
  {
   "cell_type": "code",
   "execution_count": 37,
   "metadata": {},
   "outputs": [
    {
     "name": "stdout",
     "output_type": "stream",
     "text": [
      "                                                                              precision    recall  f1-score   support\n",
      "\n",
      "                                                             Debt collection       0.79      0.27      0.40     15500\n",
      "Credit reporting, credit repair services, or other personal consumer reports       0.79      0.37      0.51     19132\n",
      "                                                 Credit card or prepaid card       0.64      0.97      0.77    114692\n",
      "                                                       Vehicle loan or lease       0.80      0.38      0.51     35012\n",
      "                                                 Checking or savings account       0.79      0.39      0.53      4290\n",
      "                          Money transfer, virtual currency, or money service       0.89      0.39      0.55     16778\n",
      "                                                                    Mortgage       0.69      0.24      0.36      3053\n",
      "                                                                Student loan       0.85      0.44      0.58      4882\n",
      "                                   Payday loan, title loan, or personal loan       0.74      0.29      0.41      4177\n",
      "\n",
      "                                                                    accuracy                           0.68    217516\n",
      "                                                                   macro avg       0.78      0.42      0.51    217516\n",
      "                                                                weighted avg       0.72      0.68      0.64    217516\n",
      "\n"
     ]
    }
   ],
   "source": [
    "# Multi-class classification report and the metrics associated to it\n",
    "print(metrics.classification_report(y_test, model.predict(xtest_tfidf), \n",
    "                                    target_names=complaints_data['Product'].unique()))"
   ]
  },
  {
   "cell_type": "code",
   "execution_count": 38,
   "metadata": {},
   "outputs": [
    {
     "name": "stdout",
     "output_type": "stream",
     "text": [
      "['Equifax and XXXX should remove this account until a judgement is entered against me that I owe the debt.']\n",
      "predicted as: Credit card or prepaid card\n"
     ]
    }
   ],
   "source": [
    "#Model Accuracy test by passing the complaint and transforming it with Term Frequency-Inverse Document Frequency\n",
    "\n",
    "consumer_complaint_sample = [\"Equifax and XXXX should remove this account until a judgement is entered against me that I owe the debt.\"]\n",
    "text_feature_vector = tfidf_vec.transform(consumer_complaint_sample)\n",
    "prediction = model.predict(text_feature_vector)\n",
    "print(consumer_complaint_sample)\n",
    "print('predicted as: {}'.format(complaints_data.loc[complaints_data['category_id']==prediction[0], 'Product'].iloc[1]))"
   ]
  },
  {
   "cell_type": "code",
   "execution_count": 39,
   "metadata": {},
   "outputs": [
    {
     "name": "stdout",
     "output_type": "stream",
     "text": [
      "['I have written several letters to date regarding information that is being reporting to my report from a relative with a similar name. Its has been more that 60 days']\n",
      "predicted as: Credit card or prepaid card\n"
     ]
    }
   ],
   "source": [
    "#Model Accuracy test by passing the complaint and transforming it with Term Frequency-Inverse Document Frequency\n",
    "\n",
    "consumer_complaint_sample = [\"I have written several letters to date regarding information that is being reporting to my report from a relative with a similar name. Its has been more that 60 days\"]\n",
    "text_feature_vector = tfidf_vec.transform(consumer_complaint_sample)\n",
    "prediction = model.predict(text_feature_vector)\n",
    "print(consumer_complaint_sample)\n",
    "print('predicted as: {}'.format(complaints_data.loc[complaints_data['category_id']==prediction[0], 'Product'].iloc[1]))"
   ]
  },
  {
   "cell_type": "markdown",
   "metadata": {},
   "source": [
    "##### Accuracy of the model is around 68% and considering the subset of the data, it is giving expected predictions. However, we need to see if there are any alternate methods to increase the accuracy of the model so that, at the business level it does have an impact in solving various complaints at a shorter period of time assigning the ticket to the relevant product team for quick turn around time rather than delaying the resolution."
   ]
  },
  {
   "cell_type": "markdown",
   "metadata": {},
   "source": [
    "To conclude with, we have performed the analysis on this consumer complaint database and generated insights around the same by answering the posed business questions and also providing the visualisations for better clarity around the dataset and building a sample multiclassifier model that could benefit the financial firms around solving and tackling the complaints at a faster pace."
   ]
  }
 ],
 "metadata": {
  "kernelspec": {
   "display_name": "Python 3",
   "language": "python",
   "name": "python3"
  },
  "language_info": {
   "codemirror_mode": {
    "name": "ipython",
    "version": 3
   },
   "file_extension": ".py",
   "mimetype": "text/x-python",
   "name": "python",
   "nbconvert_exporter": "python",
   "pygments_lexer": "ipython3",
   "version": "3.8.3"
  }
 },
 "nbformat": 4,
 "nbformat_minor": 4
}
